{
 "cells": [
  {
   "cell_type": "code",
   "execution_count": null,
   "metadata": {},
   "outputs": [],
   "source": []
  },
  {
   "cell_type": "code",
   "execution_count": 1,
   "metadata": {},
   "outputs": [],
   "source": [
    "FILE_NAME = 'test.txt'\n",
    "SAVE_NUM = 'test' + '_num2label.txt'\n",
    "SAVE_NAME = 'test' + '_name2label.txt'"
   ]
  },
  {
   "cell_type": "code",
   "execution_count": 2,
   "metadata": {},
   "outputs": [],
   "source": [
    "num2label = {}\n",
    "name2label = {}\n",
    "label = 0\n",
    "with open(FILE_NAME,'r') as f:\n",
    "    datas = f.readlines()\n",
    "    for data in datas:\n",
    "        num = data.split()[0]\n",
    "        name = data.replace(data.split()[0],'')\n",
    "        name = name.replace('\\n','')\n",
    "        if name not in name2label:\n",
    "            name2label[name] = label\n",
    "            label+=1\n",
    "            \n",
    "        num2label[num] = name2label[name]\n",
    "            \n",
    "            "
   ]
  },
  {
   "cell_type": "code",
   "execution_count": 3,
   "metadata": {},
   "outputs": [
    {
     "name": "stdout",
     "output_type": "stream",
     "text": [
      "2000\n",
      "1\n"
     ]
    }
   ],
   "source": [
    "print(len(num2label))\n",
    "print(len(name2label))"
   ]
  },
  {
   "cell_type": "code",
   "execution_count": 4,
   "metadata": {},
   "outputs": [],
   "source": [
    "with open(SAVE_NUM, 'w') as f:\n",
    "        for key, value in num2label.items():\n",
    "            f.write(key)\n",
    "            f.write(': ')\n",
    "            f.write(str(value))\n",
    "            f.write('\\n')\n",
    "with open(SAVE_NAME, 'w') as f:\n",
    "        for key, value in name2label.items():\n",
    "            f.write(key)\n",
    "            f.write(': ')\n",
    "            f.write(str(value))\n",
    "            f.write('\\n')"
   ]
  },
  {
   "cell_type": "code",
   "execution_count": null,
   "metadata": {},
   "outputs": [],
   "source": []
  }
 ],
 "metadata": {
  "kernelspec": {
   "display_name": "Pytorch",
   "language": "python",
   "name": "pytorch"
  },
  "language_info": {
   "codemirror_mode": {
    "name": "ipython",
    "version": 3
   },
   "file_extension": ".py",
   "mimetype": "text/x-python",
   "name": "python",
   "nbconvert_exporter": "python",
   "pygments_lexer": "ipython3",
   "version": "3.5.6"
  }
 },
 "nbformat": 4,
 "nbformat_minor": 2
}
